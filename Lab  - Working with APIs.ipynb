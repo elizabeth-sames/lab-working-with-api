{
 "cells": [
  {
   "cell_type": "code",
   "execution_count": 4,
   "id": "ca53ea36",
   "metadata": {},
   "outputs": [],
   "source": [
    "import requests\n",
    "import pandas as pd\n",
    "import json"
   ]
  },
  {
   "cell_type": "code",
   "execution_count": 2,
   "id": "623e9fea",
   "metadata": {},
   "outputs": [
    {
     "name": "stdout",
     "output_type": "stream",
     "text": [
      "········\n"
     ]
    }
   ],
   "source": [
    "import getpass\n",
    "rapidAPIkey = getpass.getpass()"
   ]
  },
  {
   "cell_type": "markdown",
   "id": "a158fe9a",
   "metadata": {},
   "source": [
    "Following the class example, create a function that returns the price, names of origin and arrival airports and the name of the company. Do it for all the flights between two dates."
   ]
  },
  {
   "cell_type": "code",
   "execution_count": 10,
   "id": "c49ad5ef",
   "metadata": {},
   "outputs": [],
   "source": [
    "def city_code(x):\n",
    "    url = \"https://skyscanner-skyscanner-flight-search-v1.p.rapidapi.com/apiservices/autosuggest/v1.0/UK/GBP/en-GB/\"\n",
    "    params = {\"query\":x}\n",
    "    headers = {'x-rapidapi-host': \"skyscanner-skyscanner-flight-search-v1.p.rapidapi.com\",\n",
    "           'x-rapidapi-key': rapidAPIkey}\n",
    "    response = requests.get(url, headers = headers, params = params)\n",
    "    \n",
    "    return response.json()['Places'][0]['CityId']"
   ]
  },
  {
   "cell_type": "code",
   "execution_count": 126,
   "id": "490ca432",
   "metadata": {},
   "outputs": [],
   "source": [
    "def flight_prices(departure, arrival, date):\n",
    "    d = city_code(departure)\n",
    "    a = city_code(arrival)\n",
    "    \n",
    "    url = f\"https://skyscanner-skyscanner-flight-search-v1.p.rapidapi.com/apiservices/browsequotes/v1.0/US/USD/en-US/{d}/{a}/{date}\"\n",
    "\n",
    "    params = {\"inboundpartialdate\":date}\n",
    "\n",
    "    headers = {\n",
    "        'x-rapidapi-host': \"skyscanner-skyscanner-flight-search-v1.p.rapidapi.com\",\n",
    "        'x-rapidapi-key': rapidAPIkey}\n",
    "\n",
    "    response = requests.get(url, headers=headers, params=params)\n",
    "    x=pd.json_normalize(response.json())\n",
    "    \n",
    "    quotes = pd.DataFrame(x[\"Quotes\"][0])\n",
    "    quotes.set_index(quotes.columns[0], inplace=True)\n",
    "\n",
    "    carriers = pd.DataFrame(x[\"Carriers\"][0])\n",
    "    carriers.set_index(carriers.columns[0], inplace=True)\n",
    "\n",
    "    places = pd.DataFrame(x[\"Places\"][0])\n",
    "    places.set_index([\"PlaceId\"], inplace=True)\n",
    "    \n",
    "    df = pd.DataFrame(columns=['date','price','origin_airport','arrival_airport','airline'])\n",
    "    \n",
    "    for i in range(1,len(quotes)+1):\n",
    "        p = quotes.MinPrice[i]\n",
    "        oa = places.Name[quotes.OutboundLeg[i]['OriginId']]\n",
    "        aa = places.Name[quotes.OutboundLeg[i]['DestinationId']]\n",
    "        al = carriers.Name[quotes.OutboundLeg[i]['CarrierIds'][0]]\n",
    "        df.loc[df.shape[0]] = [date, p, oa, aa, al]\n",
    "    \n",
    "    return df"
   ]
  },
  {
   "cell_type": "code",
   "execution_count": 12,
   "id": "03024a36",
   "metadata": {},
   "outputs": [],
   "source": [
    "def get_dates(start, end):\n",
    "    return pd.Series(pd.date_range(start, end,freq='d').format())"
   ]
  },
  {
   "cell_type": "code",
   "execution_count": 137,
   "id": "b5023bb5",
   "metadata": {},
   "outputs": [],
   "source": [
    "def flight_options(origin, destination, start, end):\n",
    "    dates = get_dates(start, end)\n",
    "    df = pd.DataFrame(columns=['date','price','origin_airport','arrival_airport','airline'])\n",
    "    \n",
    "    for date in dates:\n",
    "        x = flight_prices(origin, destination, date)\n",
    "        df = pd.concat([df, x], axis=0)\n",
    "    df.reset_index(drop=True, inplace=True)\n",
    "    return df"
   ]
  },
  {
   "cell_type": "code",
   "execution_count": null,
   "id": "2eba0328",
   "metadata": {},
   "outputs": [],
   "source": []
  },
  {
   "cell_type": "code",
   "execution_count": 138,
   "id": "9b97d1f3",
   "metadata": {},
   "outputs": [
    {
     "data": {
      "text/html": [
       "<div>\n",
       "<style scoped>\n",
       "    .dataframe tbody tr th:only-of-type {\n",
       "        vertical-align: middle;\n",
       "    }\n",
       "\n",
       "    .dataframe tbody tr th {\n",
       "        vertical-align: top;\n",
       "    }\n",
       "\n",
       "    .dataframe thead th {\n",
       "        text-align: right;\n",
       "    }\n",
       "</style>\n",
       "<table border=\"1\" class=\"dataframe\">\n",
       "  <thead>\n",
       "    <tr style=\"text-align: right;\">\n",
       "      <th></th>\n",
       "      <th>date</th>\n",
       "      <th>price</th>\n",
       "      <th>origin_airport</th>\n",
       "      <th>arrival_airport</th>\n",
       "      <th>airline</th>\n",
       "    </tr>\n",
       "  </thead>\n",
       "  <tbody>\n",
       "    <tr>\n",
       "      <th>0</th>\n",
       "      <td>2021-10-19</td>\n",
       "      <td>28</td>\n",
       "      <td>Madrid</td>\n",
       "      <td>Barcelona</td>\n",
       "      <td>Ryanair</td>\n",
       "    </tr>\n",
       "    <tr>\n",
       "      <th>1</th>\n",
       "      <td>2021-10-19</td>\n",
       "      <td>29</td>\n",
       "      <td>Madrid</td>\n",
       "      <td>Barcelona</td>\n",
       "      <td>Vueling Airlines</td>\n",
       "    </tr>\n",
       "    <tr>\n",
       "      <th>2</th>\n",
       "      <td>2021-10-20</td>\n",
       "      <td>26</td>\n",
       "      <td>Madrid</td>\n",
       "      <td>Barcelona</td>\n",
       "      <td>Ryanair</td>\n",
       "    </tr>\n",
       "    <tr>\n",
       "      <th>3</th>\n",
       "      <td>2021-10-20</td>\n",
       "      <td>29</td>\n",
       "      <td>Madrid</td>\n",
       "      <td>Barcelona</td>\n",
       "      <td>Vueling Airlines</td>\n",
       "    </tr>\n",
       "  </tbody>\n",
       "</table>\n",
       "</div>"
      ],
      "text/plain": [
       "         date price origin_airport arrival_airport           airline\n",
       "0  2021-10-19    28         Madrid       Barcelona           Ryanair\n",
       "1  2021-10-19    29         Madrid       Barcelona  Vueling Airlines\n",
       "2  2021-10-20    26         Madrid       Barcelona           Ryanair\n",
       "3  2021-10-20    29         Madrid       Barcelona  Vueling Airlines"
      ]
     },
     "execution_count": 138,
     "metadata": {},
     "output_type": "execute_result"
    }
   ],
   "source": [
    "flight_options('Madrid', 'Barcelona', '2021-10-19', '2021-10-20' )"
   ]
  }
 ],
 "metadata": {
  "kernelspec": {
   "display_name": "Python 3 (ipykernel)",
   "language": "python",
   "name": "python3"
  },
  "language_info": {
   "codemirror_mode": {
    "name": "ipython",
    "version": 3
   },
   "file_extension": ".py",
   "mimetype": "text/x-python",
   "name": "python",
   "nbconvert_exporter": "python",
   "pygments_lexer": "ipython3",
   "version": "3.9.6"
  }
 },
 "nbformat": 4,
 "nbformat_minor": 5
}
